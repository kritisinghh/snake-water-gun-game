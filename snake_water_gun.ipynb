{
  "nbformat": 4,
  "nbformat_minor": 0,
  "metadata": {
    "colab": {
      "provenance": [],
      "authorship_tag": "ABX9TyPAUhpj0/XImR9w+sUW5C2e",
      "include_colab_link": true
    },
    "kernelspec": {
      "name": "python3",
      "display_name": "Python 3"
    },
    "language_info": {
      "name": "python"
    }
  },
  "cells": [
    {
      "cell_type": "markdown",
      "metadata": {
        "id": "view-in-github",
        "colab_type": "text"
      },
      "source": [
        "<a href=\"https://colab.research.google.com/github/kritisinghh/snake-water-gun-game/blob/main/snake_water_gun.ipynb\" target=\"_parent\"><img src=\"https://colab.research.google.com/assets/colab-badge.svg\" alt=\"Open In Colab\"/></a>"
      ]
    },
    {
      "cell_type": "code",
      "execution_count": 1,
      "metadata": {
        "id": "zzsX3sNVBNBQ"
      },
      "outputs": [],
      "source": [
        "import random"
      ]
    },
    {
      "cell_type": "markdown",
      "source": [
        "Taking Choice of Computer"
      ],
      "metadata": {
        "id": "yh7Gc5sXBYFu"
      }
    },
    {
      "cell_type": "code",
      "source": [
        "choiceg=[-1,0,1]\n",
        "compnum=random.choice(choiceg)"
      ],
      "metadata": {
        "id": "GJUoZ30LBbmV"
      },
      "execution_count": 10,
      "outputs": []
    },
    {
      "cell_type": "markdown",
      "source": [
        "Taking Choice from the User"
      ],
      "metadata": {
        "id": "TqxG2TW4BcVJ"
      }
    },
    {
      "cell_type": "code",
      "source": [
        "you=input(\"\"\"s:Snake\n",
        "w:Water\n",
        "g:Gun\n",
        "Enter you Choice:\"\"\")\n",
        "yourdict={'s':1,'w':-1,'g':0}\n",
        "yournum=yourdict[you]"
      ],
      "metadata": {
        "colab": {
          "base_uri": "https://localhost:8080/"
        },
        "id": "1SLrxVaRBfHj",
        "outputId": "84b03152-153f-42bb-96a5-3607193224d3"
      },
      "execution_count": 15,
      "outputs": [
        {
          "name": "stdout",
          "output_type": "stream",
          "text": [
            "s:Snake\n",
            "w:Water\n",
            "g:Gun\n",
            "Enter you Choice:g\n"
          ]
        }
      ]
    },
    {
      "cell_type": "markdown",
      "source": [
        "Reverse Dictionary"
      ],
      "metadata": {
        "id": "El9lT0MwBjbT"
      }
    },
    {
      "cell_type": "code",
      "source": [
        "reversedict={1:'Snake',-1:'Water',0:'Gun'}"
      ],
      "metadata": {
        "id": "JaCgfbgoBmKZ"
      },
      "execution_count": 16,
      "outputs": []
    },
    {
      "cell_type": "markdown",
      "source": [
        "Printing Choices of User and Computer"
      ],
      "metadata": {
        "id": "NLs_23GBBtvl"
      }
    },
    {
      "cell_type": "code",
      "source": [
        "print(f'You Chose:{reversedict[yournum]} \\nComputer Chose:{reversedict[compnum]}')"
      ],
      "metadata": {
        "colab": {
          "base_uri": "https://localhost:8080/"
        },
        "id": "CDNC8a8hBzvB",
        "outputId": "0dd79e64-f432-469e-e1fb-78d768d122e5"
      },
      "execution_count": 17,
      "outputs": [
        {
          "output_type": "stream",
          "name": "stdout",
          "text": [
            "You Chose:Gun \n",
            "Computer Chose:Water\n"
          ]
        }
      ]
    },
    {
      "cell_type": "markdown",
      "source": [
        "Adding Conditions:Output"
      ],
      "metadata": {
        "id": "PzlfmhFvB4wx"
      }
    },
    {
      "cell_type": "code",
      "source": [
        "if(compnum==yournum):\n",
        "    print(\"It's a Draw\")\n",
        "else:\n",
        "    if(compnum==-1 and yournum==1):\n",
        "        print(\"You Win\")\n",
        "    elif(compnum==-1 and yournum==0):\n",
        "        print(\"You Lose\")\n",
        "    elif(compnum==1 and yournum==-1):\n",
        "        print(\"You Lose\")\n",
        "    elif(compnum==1 and yournum==0):\n",
        "        print(\"You Win\")\n",
        "    elif(compnum==0 and yournum==1):\n",
        "        print(\"You Lose\")\n",
        "    elif(compnum==0 and yournum==-1):\n",
        "        print(\"You Win\")\n",
        "    else:\n",
        "        print(\"Something went Wrong!\")"
      ],
      "metadata": {
        "colab": {
          "base_uri": "https://localhost:8080/"
        },
        "id": "nffBVC4aB77_",
        "outputId": "193605f7-8229-47f1-d747-8e3fde602f62"
      },
      "execution_count": 18,
      "outputs": [
        {
          "output_type": "stream",
          "name": "stdout",
          "text": [
            "You Lose\n"
          ]
        }
      ]
    }
  ]
}